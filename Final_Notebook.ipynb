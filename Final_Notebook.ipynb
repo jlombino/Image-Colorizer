{
 "cells": [
  {
   "attachments": {},
   "cell_type": "markdown",
   "metadata": {},
   "source": [
    "<h1>Image Colorizer</h1><hr>\n",
    "<h3>Jason Lombino - Capstone Project Submission</h3>"
   ]
  },
  {
   "attachments": {},
   "cell_type": "markdown",
   "metadata": {},
   "source": [
    "<h1>Business Proposal</h1>\n",
    "\n",
    "Photoshop?<br>\n",
    "Museum/Exhibit?<br>\n",
    "Web App/Mobile App?"
   ]
  },
  {
   "attachments": {},
   "cell_type": "markdown",
   "metadata": {},
   "source": [
    "<h1>Background Information</h1>\n",
    "\n",
    "<h3>Why Neural Networks?</h3>\n",
    "\n",
    "<h3>Selected Architecture</h3>\n",
    "\n",
    "<h3>Training Methodology and GANs</h3>\n"
   ]
  },
  {
   "attachments": {},
   "cell_type": "markdown",
   "metadata": {},
   "source": [
    "<h1>Data and Sources</h1>\n",
    "\n",
    "https://www.kaggle.com/datasets/utkarshsaxenadn/landscape-recognition-image-dataset-12k-images\n",
    "\n",
    "10k training, 1k validation (not all used/shown), 500 test (not all used/shown)\n",
    "\n",
    "Validation and test split from test in source because not all were needed for testing.\n",
    "Validation used in individual model notebooks test images shown here."
   ]
  },
  {
   "attachments": {},
   "cell_type": "markdown",
   "metadata": {},
   "source": [
    "<h1>Training Losses</h1>\n",
    "\n",
    "Tensorboard data goes here"
   ]
  },
  {
   "attachments": {},
   "cell_type": "markdown",
   "metadata": {},
   "source": [
    "<h1>Results</h1>\n",
    "\n",
    "Models still need to be trained"
   ]
  },
  {
   "cell_type": "code",
   "execution_count": 1,
   "metadata": {},
   "outputs": [],
   "source": [
    "import colorizerutils as utils\n",
    "from tensorflow.keras.models import load_model\n",
    "\n",
    "mse_gen = load_model('models/mse/generator.h5')\n",
    "gan_gen = load_model('models/gan/generator.h5')\n",
    "\n",
    "for test_batch in range(4):\n",
    "    test_images = utils.image_loader(directory='../images/test_images/',\n",
    "     batch_size=8,training=False).__getitem__(test_batch)\n",
    "    utils.display_images(gray_channel=test_images[0],color_channels=test_images[1],\n",
    "    generator1=mse_gen,gen1_title='MSE Colored',generator2=gan_gen,gen2_title='GAN Colored');"
   ]
  },
  {
   "attachments": {},
   "cell_type": "markdown",
   "metadata": {},
   "source": [
    "<h1>Conclusion and Future Work</h1>\n",
    "\n",
    "Larger Images?\n",
    "Different topics?\n",
    "\n",
    "Success?"
   ]
  }
 ],
 "metadata": {
  "kernelspec": {
   "display_name": "Python 3 (ipykernel)",
   "language": "python",
   "name": "python3"
  },
  "language_info": {
   "codemirror_mode": {
    "name": "ipython",
    "version": 3
   },
   "file_extension": ".py",
   "mimetype": "text/x-python",
   "name": "python",
   "nbconvert_exporter": "python",
   "pygments_lexer": "ipython3",
   "version": "3.10.6 (main, Nov 14 2022, 16:10:14) [GCC 11.3.0]"
  },
  "orig_nbformat": 4,
  "vscode": {
   "interpreter": {
    "hash": "916dbcbb3f70747c44a77c7bcd40155683ae19c65e1c03b4aa3499c5328201f1"
   }
  }
 },
 "nbformat": 4,
 "nbformat_minor": 2
}
